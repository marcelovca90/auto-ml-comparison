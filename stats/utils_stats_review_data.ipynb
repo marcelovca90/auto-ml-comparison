{
 "cells": [
  {
   "cell_type": "code",
   "execution_count": 1,
   "id": "2aaeffe6-6a16-4821-a1ab-a00314f4458c",
   "metadata": {},
   "outputs": [],
   "source": [
    "import json\n",
    "import os\n",
    "import pandas as pd"
   ]
  },
  {
   "cell_type": "code",
   "execution_count": 2,
   "id": "04067b28-e7b2-4b76-bbc4-728d1080672b",
   "metadata": {},
   "outputs": [],
   "source": [
    "metric = 'f1_score_weighted'\n",
    "\n",
    "datasets = {\n",
    "    'binary': [31, 37, 44, 1462, 1479, 1510, 40945],\n",
    "    'multiclass': [23, 36, 54, 181, 1466, 40691, 40975],\n",
    "    'multilabel_native': [285, 41464, 41465, 41468, 41470, 41471, 41473],\n",
    "    'multilabel_powerset': ['285ps', '41464ps', '41465ps', '41468ps', '41470ps', '41471ps', '41473ps']\n",
    "}\n",
    "\n",
    "frameworks = [\n",
    "    '4intelligence', 'autogluon', 'autokeras', 'autopytorch', 'autosklearn', 'evalml', 'fedot',\n",
    "    'flaml', 'gama', 'h2o', 'lightautoml', 'lightwood', 'mljar', 'naive', 'pycaret', 'tpot',\n",
    "]"
   ]
  },
  {
   "cell_type": "code",
   "execution_count": 3,
   "id": "dd1a6b52-97de-47a6-b422-1c3ec4e4251a",
   "metadata": {},
   "outputs": [],
   "source": [
    "all_results_list = [] # Results for all scenarios\n",
    "\n",
    "for scenario, dataset_ids in datasets.items():\n",
    "    \n",
    "    results_list = []  # Results for this scenario\n",
    "\n",
    "    for dataset_id in dataset_ids:\n",
    "\n",
    "        for framework in frameworks:\n",
    "    \n",
    "            try:\n",
    "                with open(f'results/{scenario}/{dataset_id}/automl_{framework}.json', 'r') as fp:\n",
    "                    content = json.load(fp)\n",
    "                    f1_scores = [x[metric] for x in content['results']]  # Extract scores\n",
    "    \n",
    "                    for trial_idx, score in enumerate(f1_scores):  # Store each trial\n",
    "                        trial_result = {\n",
    "                            \"Dataset\": dataset_id,\n",
    "                            \"Framework\": framework,\n",
    "                            \"Trial\": trial_idx + 1,  # Make trials 1-based for readability\n",
    "                            \"F1 Score\": score\n",
    "                        }\n",
    "                        results_list.append(trial_result)\n",
    "                        all_results_list.append(trial_result)\n",
    "    \n",
    "            except Exception as e:\n",
    "                # Missing file or error → No results for this framework/dataset\n",
    "                trial_result_error = {\n",
    "                    \"Dataset\": dataset_id,\n",
    "                    \"Framework\": framework,\n",
    "                    \"Trial\": None,\n",
    "                    \"F1 Score\": None\n",
    "                }\n",
    "                results_list.append(trial_result_error)\n",
    "                all_results_list.append(trial_result_error)\n",
    "\n",
    "    # Convert list of dicts to a DataFrame (for this scenario)\n",
    "    filename = f\"stats/{scenario}/f1_scores_results.csv\"\n",
    "    os.makedirs(os.path.dirname(filename), exist_ok=True)\n",
    "    df = pd.DataFrame(results_list)\n",
    "    df.to_csv(filename, index=False)\n",
    "\n",
    "# Convert list of dicts to a DataFrame (for all scenarios)\n",
    "all_filename = \"stats/all/f1_scores_results.csv\"\n",
    "os.makedirs(os.path.dirname(all_filename), exist_ok=True)\n",
    "all_df = pd.DataFrame(all_results_list)\n",
    "all_df.to_csv(all_filename, index=False)"
   ]
  }
 ],
 "metadata": {
  "kernelspec": {
   "display_name": "Python 3 (ipykernel)",
   "language": "python",
   "name": "python3"
  },
  "language_info": {
   "codemirror_mode": {
    "name": "ipython",
    "version": 3
   },
   "file_extension": ".py",
   "mimetype": "text/x-python",
   "name": "python",
   "nbconvert_exporter": "python",
   "pygments_lexer": "ipython3",
   "version": "3.8.20"
  }
 },
 "nbformat": 4,
 "nbformat_minor": 5
}
